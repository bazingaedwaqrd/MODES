{
 "cells": [
  {
   "cell_type": "markdown",
   "metadata": {},
   "source": [
    "## ROC&BSS 检验模块\n",
    "---\n",
    "说明：针对三类数据（CSM106，POMMA，UMKO）进行检验，并产出相应图件。"
   ]
  },
  {
   "cell_type": "markdown",
   "metadata": {},
   "source": [
    "### STEP 1.数据预处理\n",
    "- CSM.py:\n",
    " 处理中国气候中心的CSM106数据。\n",
    "  1. 将指定目录下的所有数据读入；\n",
    "  2. 基于各个月的月平均值据平；\n",
    "  3. 导出NETCDF4 文件到指定目录；\n",
    "  \n",
    "- pomma.py:\n",
    " 处理澳洲的POMMA数据数据。\n",
    "  1. 将指定目录下的所有数据读入；\n",
    "  2. 基于各个月的月平均值据平；\n",
    "  3. 导出NETCDF4 文件到指定目录；\n",
    "\n",
    "- UMKO.py:\n",
    " 处理英国数据。\n",
    "  1. 将指定目录下的所有数据读入；\n",
    "  2. 基于各个月的月平均值据平；\n",
    "  3. 导出NETCDF4 文件到指定目录；\n",
    "  \n",
    "---\n",
    "### STEP 2.样本序列化\n",
    "结合第一步得到的概率预报值，同时导入实际观测值，将网格上每个格点作为一个样本，\n",
    "生成相应的键值对（真实值：三分类概率预报值），eg:\n",
    ">y_true=[1,0,0] y_score=[0.15,0.5,0.35]\n",
    "\n",
    "结果导出以CSV格式导出\n",
    "\n",
    "- Serialization.py\n",
    " 序列化样本操作。<br>\n",
    " 1.读入观测数据和第一步得到的概率数据；<br>\n",
    " 2.数据点匹配，计算格点概率；<br>\n",
    " 3.序列化，以python pandas Dataframe表单保存数据；<br>\n",
    " 4.结果以CSV或其他格式导出\n",
    "  \n",
    "---\n",
    "### STEP 3.绘图\n",
    "基于第二步得出的结果，可以依据需求绘制ROC曲线或BSS的网格图。\n",
    "- ROC.py:\n",
    " 绘制ROC曲线。\n",
    "  1. 导入序列化样本文件；\n",
    "  2. matplotlib 绘制图件并导出到指定目录；\n",
    "  \n",
    "- BSS.py:\n",
    " 绘制BSS曲线。\n",
    "  1. 导入序列化样本文件；\n",
    "  2. matplotlib 绘制图件并导出到指定目录；\n",
    "\n",
    "---"
   ]
  },
  {
   "cell_type": "markdown",
   "metadata": {},
   "source": [
    "## 2.样本序列化"
   ]
  },
  {
   "cell_type": "markdown",
   "metadata": {},
   "source": [
    "### 2.1.1 Serialize显示帮助信息"
   ]
  },
  {
   "cell_type": "code",
   "execution_count": 1,
   "metadata": {
    "collapsed": false
   },
   "outputs": [
    {
     "name": "stdout",
     "output_type": "stream",
     "text": [
      "usage: Serialize.py [-h] [-t {single,multiple}] [-n NAME] [-v] pre obs\n",
      "\n",
      "positional arguments:\n",
      "  pre                   概率预测文件路径\n",
      "  obs                   观测文件路径\n",
      "\n",
      "optional arguments:\n",
      "  -h, --help            show this help message and exit\n",
      "  -t {single,multiple}, --type {single,multiple}\n",
      "                        文件保存方式,默认single方式\n",
      "  -n NAME, --name NAME  结果文件名\n",
      "  -v, --verbose         输出详细信息\n"
     ]
    }
   ],
   "source": [
    "%run ../src/Serialize.py -h"
   ]
  },
  {
   "cell_type": "markdown",
   "metadata": {},
   "source": [
    "1. 必填参数：Serialize.py 必须的是两个参数，由第一步导出的概率预测文件（pre）和时间上匹配的观测文件路径(obs)，这个时间匹配指的是pre数据中的每个时间（例如CSM106数据是逐月的资料），观测文件也必须有相应的时间对应上。程序中是针对每一个时间去寻找观测文件中的对应值，提取后作为完整的一个样本保存。\n",
    "2. 选填参数（option）：除了通用的-h,-v外，-t,--type表示选择结果文件的存储方式，只能在［single,multiple］中二选一，顾名思义，single将所有样本数据都保存到一个文件中，而multiple则是针对每个时间都进行保存。-n，--name表示结果文件的名称。"
   ]
  },
  {
   "cell_type": "markdown",
   "metadata": {},
   "source": [
    "### 2.1.2 示例：测试CSM106 1990-2015 降水资料"
   ]
  },
  {
   "cell_type": "code",
   "execution_count": null,
   "metadata": {
    "collapsed": false
   },
   "outputs": [
    {
     "name": "stdout",
     "output_type": "stream",
     "text": [
      "============parameters===========\n",
      "pre ../tmp/data.nc\n",
      "type single\n",
      "obs ../tmp/obpre.nc\n",
      "name ./tmp265rzB.csv\n",
      "=================================\n",
      "Reading Data Files......\n",
      "计算三分类30%和70%的阈值分割点\n",
      "Now Processing 2013-1 date.......\n"
     ]
    }
   ],
   "source": [
    "%run ../src/Serialize.py ../tmp/data.nc ../tmp/obpre.nc -v"
   ]
  },
  {
   "cell_type": "markdown",
   "metadata": {},
   "source": [
    "-v 显示详细信息，包括参数列表parameters\n",
    "\n",
    "|参数|说明|\n",
    "|----|----|\n",
    "|pre|预测资料：../tmp/data.nc|\n",
    "|type|保存类型：single，保存到单一文件，文件名即下面的name：tmp265rzB.csv|\n",
    "|obs|实际观测资料：../tmp/obpre.nc|\n",
    "|name|文件名|\n",
    "\n",
    "> 这里要计算的时间比较长，所以跑完第一个2013年1月的数据就暂停了！"
   ]
  },
  {
   "cell_type": "markdown",
   "metadata": {},
   "source": [
    "### 2.1.2 示例：多文件保存"
   ]
  },
  {
   "cell_type": "code",
   "execution_count": 1,
   "metadata": {
    "collapsed": false
   },
   "outputs": [
    {
     "name": "stdout",
     "output_type": "stream",
     "text": [
      "============parameters===========\n",
      "pre ../tmp/data.nc\n",
      "type multiple\n",
      "obs ../tmp/obpre.nc\n",
      "name ./tmp/CSM_PREC\n",
      "=================================\n",
      "Reading Data Files......\n",
      "计算三分类30%和70%的阈值分割点\n",
      "Now Processing 2013-1 date.......\n",
      "Complete 0.0 %\n",
      "Saving data to ./tmp/CSM_PREC_2013-1.csv\n"
     ]
    },
    {
     "ename": "IOError",
     "evalue": "[Errno 2] No such file or directory: u'./tmp/CSM_PREC_2013-1.csv'",
     "output_type": "error",
     "traceback": [
      "\u001b[0;31m---------------------------------------------------------------------------\u001b[0m",
      "\u001b[0;31mIOError\u001b[0m                                   Traceback (most recent call last)",
      "\u001b[0;32m/Users/qiukaixiang/PycharmProjects/MODES/MODES/src/Serialize.py\u001b[0m in \u001b[0;36m<module>\u001b[0;34m()\u001b[0m\n\u001b[1;32m    174\u001b[0m \u001b[0;34m\u001b[0m\u001b[0m\n\u001b[1;32m    175\u001b[0m \u001b[0;32mif\u001b[0m \u001b[0m__name__\u001b[0m \u001b[0;34m==\u001b[0m \u001b[0;34m'__main__'\u001b[0m\u001b[0;34m:\u001b[0m\u001b[0;34m\u001b[0m\u001b[0m\n\u001b[0;32m--> 176\u001b[0;31m     \u001b[0mtemp\u001b[0m \u001b[0;34m=\u001b[0m \u001b[0mSerialization\u001b[0m\u001b[0;34m(\u001b[0m\u001b[0;34m)\u001b[0m\u001b[0;34m\u001b[0m\u001b[0m\n\u001b[0m",
      "\u001b[0;32m/Users/qiukaixiang/PycharmProjects/MODES/MODES/src/Serialize.py\u001b[0m in \u001b[0;36m__init__\u001b[0;34m(self)\u001b[0m\n\u001b[1;32m     37\u001b[0m         \u001b[0mSettings\u001b[0m\u001b[0;34m.\u001b[0m\u001b[0m__init__\u001b[0m\u001b[0;34m(\u001b[0m\u001b[0mself\u001b[0m\u001b[0;34m)\u001b[0m\u001b[0;34m\u001b[0m\u001b[0m\n\u001b[1;32m     38\u001b[0m         \u001b[0mself\u001b[0m\u001b[0;34m.\u001b[0m\u001b[0mstartTimer\u001b[0m \u001b[0;34m=\u001b[0m \u001b[0mtime\u001b[0m\u001b[0;34m.\u001b[0m\u001b[0mtime\u001b[0m\u001b[0;34m(\u001b[0m\u001b[0;34m)\u001b[0m\u001b[0;34m\u001b[0m\u001b[0m\n\u001b[0;32m---> 39\u001b[0;31m         \u001b[0mself\u001b[0m\u001b[0;34m.\u001b[0m\u001b[0mparse_args\u001b[0m\u001b[0;34m(\u001b[0m\u001b[0;34m)\u001b[0m\u001b[0;34m\u001b[0m\u001b[0m\n\u001b[0m\u001b[1;32m     40\u001b[0m \u001b[0;34m\u001b[0m\u001b[0m\n\u001b[1;32m     41\u001b[0m     \u001b[0;32mdef\u001b[0m \u001b[0mparse_args\u001b[0m\u001b[0;34m(\u001b[0m\u001b[0mself\u001b[0m\u001b[0;34m)\u001b[0m\u001b[0;34m:\u001b[0m\u001b[0;34m\u001b[0m\u001b[0m\n",
      "\u001b[0;32m/Users/qiukaixiang/PycharmProjects/MODES/MODES/src/Serialize.py\u001b[0m in \u001b[0;36mparse_args\u001b[0;34m(self)\u001b[0m\n\u001b[1;32m     60\u001b[0m                 \u001b[0;32mprint\u001b[0m\u001b[0;34m(\u001b[0m\u001b[0mkey\u001b[0m\u001b[0;34m,\u001b[0m\u001b[0mself\u001b[0m\u001b[0;34m.\u001b[0m\u001b[0mparameters\u001b[0m\u001b[0;34m[\u001b[0m\u001b[0mkey\u001b[0m\u001b[0;34m]\u001b[0m\u001b[0;34m)\u001b[0m\u001b[0;34m\u001b[0m\u001b[0m\n\u001b[1;32m     61\u001b[0m             \u001b[0;32mprint\u001b[0m\u001b[0;34m(\u001b[0m\u001b[0;34m\"=================================\"\u001b[0m\u001b[0;34m)\u001b[0m\u001b[0;34m\u001b[0m\u001b[0m\n\u001b[0;32m---> 62\u001b[0;31m         \u001b[0mself\u001b[0m\u001b[0;34m.\u001b[0m\u001b[0mprocess\u001b[0m\u001b[0;34m(\u001b[0m\u001b[0;34m)\u001b[0m\u001b[0;34m\u001b[0m\u001b[0m\n\u001b[0m\u001b[1;32m     63\u001b[0m \u001b[0;34m\u001b[0m\u001b[0m\n\u001b[1;32m     64\u001b[0m     \u001b[0;32mdef\u001b[0m \u001b[0mprocess\u001b[0m\u001b[0;34m(\u001b[0m\u001b[0mself\u001b[0m\u001b[0;34m)\u001b[0m\u001b[0;34m:\u001b[0m\u001b[0;34m\u001b[0m\u001b[0m\n",
      "\u001b[0;32m/Users/qiukaixiang/PycharmProjects/MODES/MODES/src/Serialize.py\u001b[0m in \u001b[0;36mprocess\u001b[0;34m(self)\u001b[0m\n\u001b[1;32m     85\u001b[0m             \u001b[0mself\u001b[0m\u001b[0;34m.\u001b[0m\u001b[0msingleSave\u001b[0m\u001b[0;34m(\u001b[0m\u001b[0;34m)\u001b[0m\u001b[0;34m\u001b[0m\u001b[0m\n\u001b[1;32m     86\u001b[0m         \u001b[0;32melse\u001b[0m\u001b[0;34m:\u001b[0m\u001b[0;34m\u001b[0m\u001b[0m\n\u001b[0;32m---> 87\u001b[0;31m             \u001b[0mself\u001b[0m\u001b[0;34m.\u001b[0m\u001b[0mmultipleSave\u001b[0m\u001b[0;34m(\u001b[0m\u001b[0;34m)\u001b[0m\u001b[0;34m\u001b[0m\u001b[0m\n\u001b[0m\u001b[1;32m     88\u001b[0m         print(\"Total costs %s minutes.\" %\n\u001b[1;32m     89\u001b[0m               (int(time.time() - self.startTimer) / 60))\n",
      "\u001b[0;32m/Users/qiukaixiang/PycharmProjects/MODES/MODES/src/Serialize.py\u001b[0m in \u001b[0;36mmultipleSave\u001b[0;34m(self)\u001b[0m\n\u001b[1;32m    147\u001b[0m             \u001b[0murl\u001b[0m \u001b[0;34m=\u001b[0m \u001b[0mself\u001b[0m\u001b[0;34m.\u001b[0m\u001b[0mparameters\u001b[0m\u001b[0;34m[\u001b[0m\u001b[0;34m'name'\u001b[0m\u001b[0;34m]\u001b[0m\u001b[0;34m+\u001b[0m\u001b[0;34m'_'\u001b[0m\u001b[0;34m+\u001b[0m\u001b[0mval\u001b[0m\u001b[0;34m+\u001b[0m\u001b[0;34m'.csv'\u001b[0m\u001b[0;34m\u001b[0m\u001b[0m\n\u001b[1;32m    148\u001b[0m             \u001b[0;32mprint\u001b[0m\u001b[0;34m(\u001b[0m\u001b[0;34m'Saving data to {}'\u001b[0m\u001b[0;34m.\u001b[0m\u001b[0mformat\u001b[0m\u001b[0;34m(\u001b[0m\u001b[0murl\u001b[0m\u001b[0;34m)\u001b[0m\u001b[0;34m)\u001b[0m\u001b[0;34m\u001b[0m\u001b[0m\n\u001b[0;32m--> 149\u001b[0;31m             \u001b[0mself\u001b[0m\u001b[0;34m.\u001b[0m\u001b[0mresult\u001b[0m\u001b[0;34m.\u001b[0m\u001b[0mto_csv\u001b[0m\u001b[0;34m(\u001b[0m\u001b[0murl\u001b[0m\u001b[0;34m)\u001b[0m\u001b[0;34m\u001b[0m\u001b[0m\n\u001b[0m\u001b[1;32m    150\u001b[0m \u001b[0;34m\u001b[0m\u001b[0m\n\u001b[1;32m    151\u001b[0m \u001b[0;34m\u001b[0m\u001b[0m\n",
      "\u001b[0;32m/Users/qiukaixiang/anaconda2/lib/python2.7/site-packages/pandas/core/frame.pyc\u001b[0m in \u001b[0;36mto_csv\u001b[0;34m(self, path_or_buf, sep, na_rep, float_format, columns, header, index, index_label, mode, encoding, compression, quoting, quotechar, line_terminator, chunksize, tupleize_cols, date_format, doublequote, escapechar, decimal, **kwds)\u001b[0m\n\u001b[1;32m   1342\u001b[0m                                      \u001b[0mdoublequote\u001b[0m\u001b[0;34m=\u001b[0m\u001b[0mdoublequote\u001b[0m\u001b[0;34m,\u001b[0m\u001b[0;34m\u001b[0m\u001b[0m\n\u001b[1;32m   1343\u001b[0m                                      escapechar=escapechar, decimal=decimal)\n\u001b[0;32m-> 1344\u001b[0;31m         \u001b[0mformatter\u001b[0m\u001b[0;34m.\u001b[0m\u001b[0msave\u001b[0m\u001b[0;34m(\u001b[0m\u001b[0;34m)\u001b[0m\u001b[0;34m\u001b[0m\u001b[0m\n\u001b[0m\u001b[1;32m   1345\u001b[0m \u001b[0;34m\u001b[0m\u001b[0m\n\u001b[1;32m   1346\u001b[0m         \u001b[0;32mif\u001b[0m \u001b[0mpath_or_buf\u001b[0m \u001b[0;32mis\u001b[0m \u001b[0mNone\u001b[0m\u001b[0;34m:\u001b[0m\u001b[0;34m\u001b[0m\u001b[0m\n",
      "\u001b[0;32m/Users/qiukaixiang/anaconda2/lib/python2.7/site-packages/pandas/formats/format.pyc\u001b[0m in \u001b[0;36msave\u001b[0;34m(self)\u001b[0m\n\u001b[1;32m   1524\u001b[0m             f = _get_handle(self.path_or_buf, self.mode,\n\u001b[1;32m   1525\u001b[0m                             \u001b[0mencoding\u001b[0m\u001b[0;34m=\u001b[0m\u001b[0mself\u001b[0m\u001b[0;34m.\u001b[0m\u001b[0mencoding\u001b[0m\u001b[0;34m,\u001b[0m\u001b[0;34m\u001b[0m\u001b[0m\n\u001b[0;32m-> 1526\u001b[0;31m                             compression=self.compression)\n\u001b[0m\u001b[1;32m   1527\u001b[0m             \u001b[0mclose\u001b[0m \u001b[0;34m=\u001b[0m \u001b[0mTrue\u001b[0m\u001b[0;34m\u001b[0m\u001b[0m\n\u001b[1;32m   1528\u001b[0m \u001b[0;34m\u001b[0m\u001b[0m\n",
      "\u001b[0;32m/Users/qiukaixiang/anaconda2/lib/python2.7/site-packages/pandas/io/common.pyc\u001b[0m in \u001b[0;36m_get_handle\u001b[0;34m(path, mode, encoding, compression)\u001b[0m\n\u001b[1;32m    424\u001b[0m                 \u001b[0mf\u001b[0m \u001b[0;34m=\u001b[0m \u001b[0mopen\u001b[0m\u001b[0;34m(\u001b[0m\u001b[0mpath\u001b[0m\u001b[0;34m,\u001b[0m \u001b[0mmode\u001b[0m\u001b[0;34m,\u001b[0m \u001b[0merrors\u001b[0m\u001b[0;34m=\u001b[0m\u001b[0;34m'replace'\u001b[0m\u001b[0;34m)\u001b[0m\u001b[0;34m\u001b[0m\u001b[0m\n\u001b[1;32m    425\u001b[0m         \u001b[0;32melse\u001b[0m\u001b[0;34m:\u001b[0m\u001b[0;34m\u001b[0m\u001b[0m\n\u001b[0;32m--> 426\u001b[0;31m             \u001b[0mf\u001b[0m \u001b[0;34m=\u001b[0m \u001b[0mopen\u001b[0m\u001b[0;34m(\u001b[0m\u001b[0mpath\u001b[0m\u001b[0;34m,\u001b[0m \u001b[0mmode\u001b[0m\u001b[0;34m)\u001b[0m\u001b[0;34m\u001b[0m\u001b[0m\n\u001b[0m\u001b[1;32m    427\u001b[0m \u001b[0;34m\u001b[0m\u001b[0m\n\u001b[1;32m    428\u001b[0m     \u001b[0;32mreturn\u001b[0m \u001b[0mf\u001b[0m\u001b[0;34m\u001b[0m\u001b[0m\n",
      "\u001b[0;31mIOError\u001b[0m: [Errno 2] No such file or directory: u'./tmp/CSM_PREC_2013-1.csv'"
     ]
    }
   ],
   "source": [
    "%run ../src/Serialize.py ../tmp/data.nc ../tmp/obpre.nc -v --type multiple --name ./tmp/CSM_PREC"
   ]
  },
  {
   "cell_type": "markdown",
   "metadata": {},
   "source": [
    "在使用多文件保存的时候要注意几个地方，除了命令行中设置--type multiple外，一般都另外设置保存路径和名称，如上例所示我们指定了保存路径为当前路径下的tmp目录，文件名设置为CSM_PREC,表示后面所有的命名都是这样开头的，例如处理到2013年1月的数据，则最终的保存路径就由2部分决定：url=./tmp/CSM_PREC_2013-1.csv,因此我们一般在后面不加.csv的后缀，--name变成了文件url的前缀prefix。\n",
    "\n",
    "> 注意在notebook中运行时报错，是io错误，可能因为权限问题导致无法创建文件，用户在实际命令行操作时不会出现这种情况，下面是两张运行的截图。\n",
    "\n",
    "![multiple 1](../tmp/multiple_2.png)\n",
    "> 上图显示部分文件的处理，下图是生成的csv文件。设计文件保存格式是为了防止大文件的产生和方便用户单独测试需要的时间。\n",
    "\n",
    "![multiple 2](../tmp/multiple_1.png)"
   ]
  },
  {
   "cell_type": "markdown",
   "metadata": {},
   "source": [
    "## 3.绘图\n",
    "制图总共分为两类，标准的ROC曲线和基于gis的网格图。如下图所示：\n",
    "![roc](http://scikit-learn.org/stable/_images/plot_roc_001.png)\n",
    "![grid](../tmp/gridROC.jpg)\n",
    "在src的目录中，ROC.py和BSS.py分别负责两类统计的制图工作，首先来看roc（运行－h查看帮助信息）"
   ]
  },
  {
   "cell_type": "markdown",
   "metadata": {},
   "source": [
    "### 3.1.1 ROC显示帮助信息"
   ]
  },
  {
   "cell_type": "code",
   "execution_count": 1,
   "metadata": {
    "collapsed": false
   },
   "outputs": [
    {
     "name": "stdout",
     "output_type": "stream",
     "text": [
      "usage: ROC.py [-h] [-n NAME] [-t TITLE] [-v] ex index\n",
      "\n",
      "positional arguments:\n",
      "  ex                    指定一个序列化后的样本文件\n",
      "  index                 输出三分类中的哪一层:0:below; 1:normal; 2:above\n",
      "\n",
      "optional arguments:\n",
      "  -h, --help            show this help message and exit\n",
      "  -n NAME, --name NAME  输出结果文件名\n",
      "  -t TITLE, --title TITLE\n",
      "                        plot image title\n",
      "  -v, --verbose         输出详细信息\n"
     ]
    }
   ],
   "source": [
    "%run ../src/ROC.py -h"
   ]
  },
  {
   "cell_type": "markdown",
   "metadata": {},
   "source": [
    "必填的有2个，ex（example）表示上一步序列化后的样本数据，index指定三分类中的哪一个进行绘图。\n",
    "- 0:below normal\n",
    "- 1:normal\n",
    "- 2:above normal\n",
    "\n",
    "可选的参数有：\n",
    "- -n,--name:图件的名称，前面可以指定路径，但必须是绝对路径，例如‘～’等命令行alias暂时不支持,默认随机生成一个文件名，图片后缀png\n",
    "- -t,--titile:图片上方的主标题，默认是ROC的英文单词\n",
    "- -v,--verbose:输出详细的过程信息,包括获取的参数列表和ROC曲线上的坐标数据"
   ]
  },
  {
   "cell_type": "markdown",
   "metadata": {},
   "source": [
    "### 3.1.2 示例：规定样本文件test.csv 和index=0"
   ]
  },
  {
   "cell_type": "code",
   "execution_count": 27,
   "metadata": {
    "collapsed": false
   },
   "outputs": [
    {
     "name": "stdout",
     "output_type": "stream",
     "text": [
      "saving image to ./tmpq5OZA3.png\n",
      "Completely Finshed.\n"
     ]
    }
   ],
   "source": [
    "%run ../src/ROC.py ../tmp/test.csv 0"
   ]
  },
  {
   "cell_type": "markdown",
   "metadata": {},
   "source": [
    "指定样本文件路径为：../tmp/test.csv ，绘制below normal的ROC图件。因为没有指定文件名和title，因此默认保存在当前目录中，文件名为tmpq5OZA3.png,如下图所示：\n",
    "![](../tmp/tmpq5OZA3.png)"
   ]
  },
  {
   "cell_type": "markdown",
   "metadata": {},
   "source": [
    "### 3.1.3 示例：指定图件名和保存路径"
   ]
  },
  {
   "cell_type": "code",
   "execution_count": 1,
   "metadata": {
    "collapsed": false
   },
   "outputs": [
    {
     "name": "stdout",
     "output_type": "stream",
     "text": [
      "saving image to ../tmp/ROC_Above_normal.png\n",
      "Completely Finshed.\n"
     ]
    }
   ],
   "source": [
    "%run ../src/ROC.py ../tmp/test.csv 2 --name=../tmp/ROC_Above_normal.png"
   ]
  },
  {
   "cell_type": "markdown",
   "metadata": {},
   "source": [
    "指定样本文件路径为：../tmp/test.csv ，绘制above normal的ROC图件。\n",
    "--name指定保存路径为../tmp,文件名为ROC_Above_normal.png。如下图所示：\n",
    "![](../tmp/ROC_Above_normal.png)"
   ]
  },
  {
   "cell_type": "markdown",
   "metadata": {},
   "source": [
    "### 3.1.4 示例：指定图件title"
   ]
  },
  {
   "cell_type": "code",
   "execution_count": 2,
   "metadata": {
    "collapsed": false
   },
   "outputs": [
    {
     "name": "stdout",
     "output_type": "stream",
     "text": [
      "saving image to ../tmp/csm_title.png\n",
      "Completely Finshed.\n"
     ]
    }
   ],
   "source": [
    "%run ../src/ROC.py ../tmp/test.csv 2 --title='CSM1990-2000 Monthly ROC Curve' --name=../tmp/csm_title.png"
   ]
  },
  {
   "cell_type": "markdown",
   "metadata": {},
   "source": [
    "指定样本文件路径为：../tmp/testcsv ，绘制above normal的ROC图件。\n",
    "--name指定保存路径为../tmp,文件名为csm_title..png。如下图所示：\n",
    "![](../tmp/csm_title.png)"
   ]
  },
  {
   "cell_type": "markdown",
   "metadata": {},
   "source": [
    "### 3.1.5 示例：显示详细信息"
   ]
  },
  {
   "cell_type": "code",
   "execution_count": 2,
   "metadata": {
    "collapsed": false
   },
   "outputs": [
    {
     "name": "stdout",
     "output_type": "stream",
     "text": [
      "============parameters===========\n",
      "index 2\n",
      "ex ../tmp/test.csv\n",
      "name ../tmp/roc_verbose.png\n",
      "====False Positive Ratio(fpr) And True Positive Ratio(tpr) Pair====\n",
      "0 0.0 0.0\n",
      "1 0.000126552909662 0.000126552909662\n",
      "2 0.000210921516104 0.000210921516104\n",
      "3 0.000696041003143 0.000696041003143\n",
      "4 0.00189829364493 0.00189829364493\n",
      "5 0.00423952247369 0.00423952247369\n",
      "6 0.00892198013119 0.00892198013119\n",
      "7 0.0180970660817 0.0180970660817\n",
      "8 0.0355402754635 0.0355402754635\n",
      "9 0.0613148847314 0.0613148847314\n",
      "10 0.102318027462 0.102318027462\n",
      "11 0.162515028158 0.162515028158\n",
      "12 0.237349982072 0.237349982072\n",
      "13 0.326928349961 0.326928349961\n",
      "14 0.428149585539 0.428149585539\n",
      "15 0.53293539474 0.53293539474\n",
      "16 0.634325367531 0.634325367531\n",
      "17 0.726687899433 0.726687899433\n",
      "18 0.797220054418 0.797220054418\n",
      "19 0.855181287043 0.855181287043\n",
      "20 0.898968593786 0.898968593786\n",
      "21 0.940119381578 0.940119381578\n",
      "22 1.0 1.0\n",
      "saving image to ../tmp/roc_verbose.png\n",
      "Completely Finshed.\n"
     ]
    }
   ],
   "source": [
    "%run ../src/ROC.py ../tmp/test.csv 2 --name=../tmp/roc_verbose.png --verbose"
   ]
  },
  {
   "cell_type": "markdown",
   "metadata": {},
   "source": [
    "除了最后两行相同外，verbose选项另外显示了配置的参数信息（parameters）和ROC曲线上的坐标点，分三列，从左往右分别是编号，假阳率和真阳率数值。"
   ]
  }
 ],
 "metadata": {
  "kernelspec": {
   "display_name": "Python 2",
   "language": "python",
   "name": "python2"
  },
  "language_info": {
   "codemirror_mode": {
    "name": "ipython",
    "version": 2
   },
   "file_extension": ".py",
   "mimetype": "text/x-python",
   "name": "python",
   "nbconvert_exporter": "python",
   "pygments_lexer": "ipython2",
   "version": "2.7.12"
  }
 },
 "nbformat": 4,
 "nbformat_minor": 0
}
