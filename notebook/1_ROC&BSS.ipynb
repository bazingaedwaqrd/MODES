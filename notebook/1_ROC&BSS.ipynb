{
 "cells": [
  {
   "cell_type": "markdown",
   "metadata": {},
   "source": [
    "## ROC&BSS 检验模块\n",
    "---\n",
    "说明：针对三类数据（CSM106，POMMA，UMKO）进行检验，并产出相应图件。"
   ]
  },
  {
   "cell_type": "markdown",
   "metadata": {},
   "source": [
    "### STEP 1.数据预处理\n",
    "- CSM.py:\n",
    " 处理中国气候中心的CSM106数据。\n",
    "  1. 将指定目录下的所有数据读入；\n",
    "  2. 基于各个月的月平均值据平；\n",
    "  3. 导出NETCDF4 文件到指定目录；\n",
    "  \n",
    "- pomma.py:\n",
    " 处理澳洲的POMMA数据数据。\n",
    "  1. 将指定目录下的所有数据读入；\n",
    "  2. 基于各个月的月平均值据平；\n",
    "  3. 导出NETCDF4 文件到指定目录；\n",
    "\n",
    "- UMKO.py:\n",
    " 处理英国数据。\n",
    "  1. 将指定目录下的所有数据读入；\n",
    "  2. 基于各个月的月平均值据平；\n",
    "  3. 导出NETCDF4 文件到指定目录；\n",
    "  \n",
    "---\n",
    "### STEP 2.样本序列化\n",
    "结合第一步得到的概率预报值，同时导入实际观测值，将网格上每个格点作为一个样本，\n",
    "生成相应的键值对（真实值：三分类概率预报值），eg:\n",
    ">y_true=[1,0,0] y_score=[0.15,0.5,0.35]\n",
    "\n",
    "结果导出以CSV格式导出\n",
    "\n",
    "- Serialization.py\n",
    " 序列化样本操作。<br>\n",
    " 1.读入观测数据和第一步得到的概率数据；<br>\n",
    " 2.数据点匹配，计算格点概率；<br>\n",
    " 3.序列化，以python pandas Dataframe表单保存数据；<br>\n",
    " 4.结果以CSV或其他格式导出\n",
    "  \n",
    "---\n",
    "### STEP 3.绘图\n",
    "基于第二步得出的结果，可以依据需求绘制ROC曲线或BSS的网格图。\n",
    "- ROC.py:\n",
    " 绘制ROC曲线。\n",
    "  1. 导入序列化样本文件；\n",
    "  2. matplotlib 绘制图件并导出到指定目录；\n",
    "  \n",
    "- BSS.py:\n",
    " 绘制BSS曲线。\n",
    "  1. 导入序列化样本文件；\n",
    "  2. matplotlib 绘制图件并导出到指定目录；\n"
   ]
  }
 ],
 "metadata": {
  "kernelspec": {
   "display_name": "Python 2",
   "language": "python",
   "name": "python2"
  },
  "language_info": {
   "codemirror_mode": {
    "name": "ipython",
    "version": 2
   },
   "file_extension": ".py",
   "mimetype": "text/x-python",
   "name": "python",
   "nbconvert_exporter": "python",
   "pygments_lexer": "ipython2",
   "version": "2.7.12"
  }
 },
 "nbformat": 4,
 "nbformat_minor": 0
}
