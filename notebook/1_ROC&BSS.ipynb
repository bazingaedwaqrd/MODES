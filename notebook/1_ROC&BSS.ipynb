{
 "cells": [
  {
   "cell_type": "markdown",
   "metadata": {},
   "source": [
    "## ROC&BSS 检验模块\n",
    "---\n",
    "说明：针对三类数据（CSM106，POMMA，UMKO）进行检验，并产出相应图件。"
   ]
  },
  {
   "cell_type": "markdown",
   "metadata": {},
   "source": [
    "### STEP 1.数据预处理\n",
    "- CSM.py:\n",
    " 处理中国气候中心的CSM106数据。\n",
    "  1. 将指定目录下的所有数据读入；\n",
    "  2. 基于各个月的月平均值据平；\n",
    "  3. 导出NETCDF4 文件到指定目录；\n",
    "  \n",
    "- pomma.py:\n",
    " 处理澳洲的POMMA数据数据。\n",
    "  1. 将指定目录下的所有数据读入；\n",
    "  2. 基于各个月的月平均值据平；\n",
    "  3. 导出NETCDF4 文件到指定目录；\n",
    "\n",
    "- UMKO.py:\n",
    " 处理英国数据。\n",
    "  1. 将指定目录下的所有数据读入；\n",
    "  2. 基于各个月的月平均值据平；\n",
    "  3. 导出NETCDF4 文件到指定目录；\n",
    "  \n",
    "---\n",
    "### STEP 2.样本序列化\n",
    "结合第一步得到的概率预报值，同时导入实际观测值，将网格上每个格点作为一个样本，\n",
    "生成相应的键值对（真实值：三分类概率预报值），eg:\n",
    ">y_true=[1,0,0] y_score=[0.15,0.5,0.35]\n",
    "\n",
    "结果导出以CSV格式导出\n",
    "\n",
    "- Serialization.py\n",
    " 序列化样本操作。<br>\n",
    " 1.读入观测数据和第一步得到的概率数据；<br>\n",
    " 2.数据点匹配，计算格点概率；<br>\n",
    " 3.序列化，以python pandas Dataframe表单保存数据；<br>\n",
    " 4.结果以CSV或其他格式导出\n",
    "  \n",
    "---\n",
    "### STEP 3.绘图\n",
    "基于第二步得出的结果，可以依据需求绘制ROC曲线或BSS的网格图。\n",
    "- ROC.py:\n",
    " 绘制ROC曲线。\n",
    "  1. 导入序列化样本文件；\n",
    "  2. matplotlib 绘制图件并导出到指定目录；\n",
    "  \n",
    "- BSS.py:\n",
    " 绘制BSS曲线。\n",
    "  1. 导入序列化样本文件；\n",
    "  2. matplotlib 绘制图件并导出到指定目录；\n"
   ]
  },
  {
   "cell_type": "markdown",
   "metadata": {},
   "source": [
    "## 3.绘图\n",
    "制图总共分为两类，标准的ROC曲线和基于gis的网格图。如下图所示：\n",
    "![roc](http://scikit-learn.org/stable/_images/plot_roc_001.png)\n",
    "![grid](../tmp/gridROC.jpg)\n",
    "在src的目录中，ROC.py和BSS.py分别负责两类统计的制图工作，首先来看roc（运行－h查看帮助信息）"
   ]
  },
  {
   "cell_type": "markdown",
   "metadata": {},
   "source": [
    "### 3.1.1 ROC显示帮助信息"
   ]
  },
  {
   "cell_type": "code",
   "execution_count": 1,
   "metadata": {
    "collapsed": false
   },
   "outputs": [
    {
     "name": "stdout",
     "output_type": "stream",
     "text": [
      "usage: ROC.py [-h] [-n NAME] [-t TITLE] [-v] ex index\n",
      "\n",
      "positional arguments:\n",
      "  ex                    指定一个序列化后的样本文件\n",
      "  index                 输出三分类中的哪一层:0:below; 1:normal; 2:above\n",
      "\n",
      "optional arguments:\n",
      "  -h, --help            show this help message and exit\n",
      "  -n NAME, --name NAME  输出结果文件名\n",
      "  -t TITLE, --title TITLE\n",
      "                        plot image title\n",
      "  -v, --verbose         输出详细信息\n"
     ]
    }
   ],
   "source": [
    "%run ../src/ROC.py -h"
   ]
  },
  {
   "cell_type": "markdown",
   "metadata": {},
   "source": [
    "必填的有2个，ex（example）表示上一步序列化后的样本数据，index指定三分类中的哪一个进行绘图。\n",
    "- 0:below normal\n",
    "- 1:normal\n",
    "- 2:above normal\n",
    "\n",
    "可选的参数有：\n",
    "- -n,--name:图件的名称，前面可以指定路径，但必须是绝对路径，例如‘～’等命令行alias暂时不支持,默认随机生成一个文件名，图片后缀png\n",
    "- -t,--titile:图片上方的主标题，默认是ROC的英文单词\n",
    "- -v,--verbose:输出详细的过程信息,包括获取的参数列表和ROC曲线上的坐标数据"
   ]
  },
  {
   "cell_type": "markdown",
   "metadata": {},
   "source": [
    "### 3.1.2 示例：规定样本文件test.csv 和index=0"
   ]
  },
  {
   "cell_type": "code",
   "execution_count": 27,
   "metadata": {
    "collapsed": false
   },
   "outputs": [
    {
     "name": "stdout",
     "output_type": "stream",
     "text": [
      "saving image to ./tmpq5OZA3.png\n",
      "Completely Finshed.\n"
     ]
    }
   ],
   "source": [
    "%run ../src/ROC.py ../tmp/test.csv 0"
   ]
  },
  {
   "cell_type": "markdown",
   "metadata": {},
   "source": [
    "指定样本文件路径为：../tmp/test.csv ，绘制below normal的ROC图件。因为没有指定文件名和title，因此默认保存在当前目录中，文件名为tmpq5OZA3.png,如下图所示：\n",
    "![](../tmp/tmpq5OZA3.png)"
   ]
  },
  {
   "cell_type": "markdown",
   "metadata": {},
   "source": [
    "### 3.1.3 示例：指定图件名和保存路径"
   ]
  },
  {
   "cell_type": "code",
   "execution_count": 1,
   "metadata": {
    "collapsed": false
   },
   "outputs": [
    {
     "name": "stdout",
     "output_type": "stream",
     "text": [
      "saving image to ../tmp/ROC_Above_normal.png\n",
      "Completely Finshed.\n"
     ]
    }
   ],
   "source": [
    "%run ../src/ROC.py ../tmp/test.csv 2 --name=../tmp/ROC_Above_normal.png"
   ]
  },
  {
   "cell_type": "markdown",
   "metadata": {},
   "source": [
    "指定样本文件路径为：../tmp/test.csv ，绘制above normal的ROC图件。\n",
    "--name指定保存路径为../tmp,文件名为ROC_Above_normal.png。如下图所示：\n",
    "![](../tmp/ROC_Above_normal.png)"
   ]
  },
  {
   "cell_type": "markdown",
   "metadata": {},
   "source": [
    "### 3.1.4 示例：指定图件title"
   ]
  },
  {
   "cell_type": "code",
   "execution_count": 2,
   "metadata": {
    "collapsed": false
   },
   "outputs": [
    {
     "name": "stdout",
     "output_type": "stream",
     "text": [
      "saving image to ../tmp/csm_title.png\n",
      "Completely Finshed.\n"
     ]
    }
   ],
   "source": [
    "%run ../src/ROC.py ../tmp/test.csv 2 --title='CSM1990-2000 Monthly ROC Curve' --name=../tmp/csm_title.png"
   ]
  },
  {
   "cell_type": "markdown",
   "metadata": {},
   "source": [
    "指定样本文件路径为：../tmp/testcsv ，绘制above normal的ROC图件。\n",
    "--name指定保存路径为../tmp,文件名为csm_title..png。如下图所示：\n",
    "![](../tmp/csm_title.png)"
   ]
  },
  {
   "cell_type": "markdown",
   "metadata": {},
   "source": [
    "### 3.1.5 示例：显示详细信息"
   ]
  },
  {
   "cell_type": "code",
   "execution_count": 2,
   "metadata": {
    "collapsed": false
   },
   "outputs": [
    {
     "name": "stdout",
     "output_type": "stream",
     "text": [
      "============parameters===========\n",
      "index 2\n",
      "ex ../tmp/test.csv\n",
      "name ../tmp/roc_verbose.png\n",
      "====False Positive Ratio(fpr) And True Positive Ratio(tpr) Pair====\n",
      "0 0.0 0.0\n",
      "1 0.000126552909662 0.000126552909662\n",
      "2 0.000210921516104 0.000210921516104\n",
      "3 0.000696041003143 0.000696041003143\n",
      "4 0.00189829364493 0.00189829364493\n",
      "5 0.00423952247369 0.00423952247369\n",
      "6 0.00892198013119 0.00892198013119\n",
      "7 0.0180970660817 0.0180970660817\n",
      "8 0.0355402754635 0.0355402754635\n",
      "9 0.0613148847314 0.0613148847314\n",
      "10 0.102318027462 0.102318027462\n",
      "11 0.162515028158 0.162515028158\n",
      "12 0.237349982072 0.237349982072\n",
      "13 0.326928349961 0.326928349961\n",
      "14 0.428149585539 0.428149585539\n",
      "15 0.53293539474 0.53293539474\n",
      "16 0.634325367531 0.634325367531\n",
      "17 0.726687899433 0.726687899433\n",
      "18 0.797220054418 0.797220054418\n",
      "19 0.855181287043 0.855181287043\n",
      "20 0.898968593786 0.898968593786\n",
      "21 0.940119381578 0.940119381578\n",
      "22 1.0 1.0\n",
      "saving image to ../tmp/roc_verbose.png\n",
      "Completely Finshed.\n"
     ]
    }
   ],
   "source": [
    "%run ../src/ROC.py ../tmp/test.csv 2 --name=../tmp/roc_verbose.png --verbose"
   ]
  },
  {
   "cell_type": "markdown",
   "metadata": {},
   "source": [
    "除了最后两行相同外，verbose选项另外显示了配置的参数信息（parameters）和ROC曲线上的坐标点，分三列，从左往右分别是编号，假阳率和真阳率数值。"
   ]
  }
 ],
 "metadata": {
  "kernelspec": {
   "display_name": "Python 2",
   "language": "python",
   "name": "python2"
  },
  "language_info": {
   "codemirror_mode": {
    "name": "ipython",
    "version": 2
   },
   "file_extension": ".py",
   "mimetype": "text/x-python",
   "name": "python",
   "nbconvert_exporter": "python",
   "pygments_lexer": "ipython2",
   "version": "2.7.12"
  }
 },
 "nbformat": 4,
 "nbformat_minor": 0
}
