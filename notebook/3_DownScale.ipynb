{
 "cells": [
  {
   "cell_type": "markdown",
   "metadata": {},
   "source": [
    "# 降尺度气候分区\n",
    "\n",
    "> 参考杜良敏《基于聚类分区的中国夏季降水预测模型》"
   ]
  },
  {
   "cell_type": "markdown",
   "metadata": {},
   "source": [
    "## 1.数据获取\n",
    "\n",
    "- NOAA海温场资料\n",
    "- NCEP海平面气压场资料\n",
    "- 站点资料"
   ]
  },
  {
   "cell_type": "markdown",
   "metadata": {},
   "source": [
    "## 2.统计模型"
   ]
  },
  {
   "cell_type": "markdown",
   "metadata": {},
   "source": [
    "### 2.1 初始参数配置setup.ini\n",
    "![](../tmp/setup.png)"
   ]
  },
  {
   "cell_type": "markdown",
   "metadata": {},
   "source": [
    "### 2.2 聚类分析Affinity Propagation\n",
    "聚类函数采用论文中的距离公式，同时兼顾站点之间的相关性，剔除遥相关，考虑据平符号一致性。\n",
    "![](../tmp/3_pricipal.png)"
   ]
  },
  {
   "cell_type": "code",
   "execution_count": 3,
   "metadata": {
    "collapsed": false
   },
   "outputs": [
    {
     "name": "stdout",
     "output_type": "stream",
     "text": [
      "usage: ClimateDivision.py [-h] [--clustering {REOF,AP}] [-v] ini\n",
      "\n",
      "positional arguments:\n",
      "  ini                   初始化参数文件\n",
      "\n",
      "optional arguments:\n",
      "  -h, --help            show this help message and exit\n",
      "  --clustering {REOF,AP}\n",
      "                        选取聚类类型\n",
      "  -v, --verbose         输出详细信息\n"
     ]
    }
   ],
   "source": [
    "%run ../src/ClimateDivision.py -h"
   ]
  },
  {
   "cell_type": "markdown",
   "metadata": {},
   "source": [
    "指定初始参数，聚类类型："
   ]
  },
  {
   "cell_type": "code",
   "execution_count": 4,
   "metadata": {
    "collapsed": false
   },
   "outputs": [
    {
     "name": "stdout",
     "output_type": "stream",
     "text": [
      "============parameters===========\n"
     ]
    }
   ],
   "source": [
    "%run ../src/ClimateDivision.py -v ../config/setup.ini --clustering AP"
   ]
  },
  {
   "cell_type": "markdown",
   "metadata": {},
   "source": [
    "## 3.评估检验\n",
    "> 参考《短期气候预测评估方法和业务初估》"
   ]
  },
  {
   "cell_type": "markdown",
   "metadata": {},
   "source": [
    "### 3.1 平均交叉检验Ps得分\n"
   ]
  },
  {
   "cell_type": "code",
   "execution_count": null,
   "metadata": {
    "collapsed": true
   },
   "outputs": [],
   "source": [
    "%run ../src/ClimateDivision.py -v --check ps"
   ]
  },
  {
   "cell_type": "markdown",
   "metadata": {},
   "source": [
    "### 3.2 据平符号一致率"
   ]
  },
  {
   "cell_type": "code",
   "execution_count": null,
   "metadata": {
    "collapsed": true
   },
   "outputs": [],
   "source": [
    "%run ../src/ClimateDivision.py -v --check sc"
   ]
  },
  {
   "cell_type": "markdown",
   "metadata": {},
   "source": [
    "### 3.3 据平相关系数"
   ]
  },
  {
   "cell_type": "code",
   "execution_count": null,
   "metadata": {
    "collapsed": true
   },
   "outputs": [],
   "source": [
    "%run ../src/ClimateDivision.py -v --check acc"
   ]
  }
 ],
 "metadata": {
  "kernelspec": {
   "display_name": "Python 2",
   "language": "python",
   "name": "python2"
  },
  "language_info": {
   "codemirror_mode": {
    "name": "ipython",
    "version": 2
   },
   "file_extension": ".py",
   "mimetype": "text/x-python",
   "name": "python",
   "nbconvert_exporter": "python",
   "pygments_lexer": "ipython2",
   "version": "2.7.12"
  }
 },
 "nbformat": 4,
 "nbformat_minor": 0
}
