{
 "cells": [
  {
   "cell_type": "markdown",
   "metadata": {},
   "source": [
    "## POMMA 数据下载模块\n",
    "---\n",
    "说明：模块提取POMMA指定目录的数据列表，生成一个名为“catalog.txt”的文件，里面每一行表示一个文件的下载链接，用户通过\n",
    "```python\n",
    "wget -i catalog.txt\n",
    "```\n",
    "完成下载。"
   ]
  },
  {
   "cell_type": "markdown",
   "metadata": {},
   "source": [
    "### 1.Usage：./POMMA.py url [-o /path/to/your/ouput/file]"
   ]
  },
  {
   "cell_type": "markdown",
   "metadata": {},
   "source": []
  },
  {
   "cell_type": "code",
   "execution_count": 2,
   "metadata": {},
   "outputs": [
    {
     "name": "stdout",
     "output_type": "stream",
     "text": [
      "usage: POMMA.py [-h] [-o O] url\r\n",
      "\r\n",
      "positional arguments:\r\n",
      "  url         文件目录的URL地址\r\n",
      "\r\n",
      "optional arguments:\r\n",
      "  -h, --help  show this help message and exit\r\n",
      "  -o O        输出的文件路径\r\n"
     ]
    }
   ],
   "source": [
    "!./POMMA.py -h"
   ]
  },
  {
   "cell_type": "markdown",
   "metadata": {},
   "source": [
    "### 2.操作实例：解析pomma的某个分类目录catalog.html"
   ]
  },
  {
   "cell_type": "code",
   "execution_count": 4,
   "metadata": {},
   "outputs": [],
   "source": [
    "!./POMMA.py http://opendap.bom.gov.au:8080/thredds/catalog/poama/realtime/monthly/m24a/emn/catalog.html"
   ]
  },
  {
   "cell_type": "markdown",
   "metadata": {},
   "source": [
    "### 3.操作实例：输出结果文件到指定目录.eg:/home/xxx"
   ]
  },
  {
   "cell_type": "code",
   "execution_count": 4,
   "metadata": {},
   "outputs": [],
   "source": [
    "!./POMMA.py http://opendap.bom.gov.au:8080/thredds/catalog/poama/realtime/monthly/m24a/emn/catalog.html -o /home/xxx"
   ]
  }
 ],
 "metadata": {
  "kernelspec": {
   "display_name": "Python 2",
   "language": "python",
   "name": "python2"
  },
  "language_info": {
   "codemirror_mode": {
    "name": "ipython",
    "version": 2.0
   },
   "file_extension": ".py",
   "mimetype": "text/x-python",
   "name": "python",
   "nbconvert_exporter": "python",
   "pygments_lexer": "ipython2",
   "version": "2.7.12"
  }
 },
 "nbformat": 4,
 "nbformat_minor": 0
}