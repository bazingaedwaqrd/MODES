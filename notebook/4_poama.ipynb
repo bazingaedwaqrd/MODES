{
 "cells": [
  {
   "cell_type": "markdown",
   "metadata": {},
   "source": [
    "## POAMA2 下载\n",
    "---\n",
    "说明：模块提取POMMA指定目录的数据列表，生成一个名为“catalog.txt”的文件，里面每一行表示一个文件的下载链接，用户通过\n",
    "```python\n",
    "wget -i catalog.txt\n",
    "```\n",
    "完成下载。"
   ]
  },
  {
   "cell_type": "markdown",
   "metadata": {},
   "source": [
    "## 1.数据介绍"
   ]
  },
  {
   "cell_type": "markdown",
   "metadata": {},
   "source": [
    "### 1.1 Data Server 路径\n",
    "官网:\n",
    "> http://poama.bom.gov.au/data_server.shtml\n",
    "\n",
    "POAMA-2 后报和实时数据OPeNDAP 服务路径：\n",
    "> http://opendap.bom.gov.au:8080/thredds/catalogs/bmrc-poama-catalog.html\n",
    "\n",
    "POAMA-2模式配置：\n",
    "POAMA-2在2.4及之后版本中同时包含季节和逐月的预测结果。另外，作为一个多模式集合，POAMA-2同时支持三种不同的模式配置。针对季节性预报，这些配置被称为p24a,p24b和p24c;针对多周的预报这些配置被称为m24a, m24b, m24c。\n",
    "\n",
    "|项目|说明|\n",
    "|----|----|\n",
    "|Model sets|m24a, m24b, m24c|\n",
    "|Ensembles|11 Members and 1 Ensemble Mean. (e00 -> e10 & emn)|\n",
    "|Forecast Availability|9 month lead times are available from 3rd of May, 2012|\n",
    "|Forecast Frequency|Forecasts are available on a twice weekly basis. Start Dates are Sunday and Thursday.|\n",
    "|Forecast Lead Time|Lead time to 270 days.|\n",
    "|Hindcast Availability|Jan 1981 -> Jun 2014|\n",
    "|Hindcast Frequency|Hindcasts start on the 1st, 11th and 21st of the month.|\n",
    "|Hindcast Lead Time|Lead time to 270 days for years 1981-2011.|\n",
    "\n"
   ]
  },
  {
   "cell_type": "markdown",
   "metadata": {},
   "source": [
    "### 1.2 文件保存结构"
   ]
  },
  {
   "cell_type": "markdown",
   "metadata": {},
   "source": [
    "Current POAMA system\n",
    "- POAMA 2.4 Multiweek Real Time Forecasts/\n",
    "- POAMA 2.4 Multiweek Hindcasts from 1981/\n",
    "\n",
    "Ocean Re-analysis\n",
    "- PEODAS Re-Analysis/\n",
    "- PEODAS Real Time/\n",
    "\n",
    "Previous POAMA systems\n",
    "- POAMA 2.4 Seasonal Real Time Forecasts/\n",
    "- POAMA 2.4 Seasonal Hindcasts from 1960/\n",
    "- POAMA 1.5 Data Catalog/\n",
    "\n",
    "Other POAMA Related Datasets\n",
    "- POAMA 2.4 Control Runs/\n",
    "![](../tmp/ch4-1.png)"
   ]
  },
  {
   "cell_type": "markdown",
   "metadata": {},
   "source": [
    "### 1.3 文件命名规则\n",
    "Current files - Atmoshpere only\n",
    "\n",
    "|File Prefix|Size|Description|\n",
    "|---|---|---|\n",
    "|dagc_YYYYMMDD.nc|~300 MB|Daily Atmosphere file - 270 days|\n",
    "|wac_YYYYMMDD.nc|~21 MB|Weekly Atmosphere file - 11 weeks|\n",
    "|mac_YYYYMMDD.nc|~17 MB|Monthly Atmosphere file - 9 full months|\n",
    "|moc_YYYYMMDD.nc|~46 MB|Monthly Ocean file - 9 full months - Available through All Multiweek Realtime Forecasts link.|\t\t\n",
    "|w2ac_YYYYMMDD.nc|various|Fortnightly Atmosphere file - 10 x 2 weekly values|\n",
    "|m3ac_YYYYMMDD.nc|various|Seasonal Atmosphere file - 7 x 3 monthly values|\n",
    "\t\t\n",
    "Older files - these files are Ocean files and pre-processed Atmosphere files\n",
    "\n",
    "|File Prefix|Size|Description|\n",
    "|---|---|---|\n",
    "|da_YYYYMMDD.nc|~300 MB|Daily Atmosphere file - same as dagc|\n",
    "|dag_YYYYMMDD.nc|~300 MB|Daily Atmosphere file - same as dagc|\n",
    "|mn_hrzYYYYMMDD.nc|~55 MB|Daily Ocean file|\t\t\n",
    "|ma_YYYYMMDD.nc|~19 MB|Monthly Atmosphere file - first partial month and 9 full months|\n",
    "|oa_YYYYMMDD.nc|~23 MB|Monthly Ocean file - first partial month and 9 full months|\t\t\n",
    "|wa2_YYYYMMDD.nc|~7 MB|Fortnightly Atmosphere file - 6 fortnights|\n",
    "|wa_YYYYMMDD.nc|~21 MB|Weekly Atmosphere file - same as wac|"
   ]
  },
  {
   "cell_type": "markdown",
   "metadata": {},
   "source": [
    "## 2.下载分析"
   ]
  },
  {
   "cell_type": "markdown",
   "metadata": {},
   "source": [
    "### 2.1.1 Usage：../src/POAMA.py url [-o /path/to/your/ouput/file]"
   ]
  },
  {
   "cell_type": "code",
   "execution_count": 2,
   "metadata": {
    "collapsed": false
   },
   "outputs": [
    {
     "name": "stdout",
     "output_type": "stream",
     "text": [
      "usage: POAMA.py [-h] [-t TYPE] [-o O] url\n",
      "\n",
      "positional arguments:\n",
      "  url                   文件目录的URL地址\n",
      "\n",
      "optional arguments:\n",
      "  -h, --help            show this help message and exit\n",
      "  -t TYPE, --type TYPE  选择文件类型\n",
      "  -o O                  输出的文件路径\n"
     ]
    }
   ],
   "source": [
    "%run ../src/POAMA.py -h"
   ]
  },
  {
   "cell_type": "markdown",
   "metadata": {},
   "source": [
    "### 2.1.2 操作实例：解析poama的某个分类目录catalog.html"
   ]
  },
  {
   "cell_type": "code",
   "execution_count": 4,
   "metadata": {
    "collapsed": true
   },
   "outputs": [],
   "source": [
    "%run ../src/POMMA.py http://opendap.bom.gov.au:8080/thredds/catalog/poama/realtime/monthly/m24a/emn/catalog.html"
   ]
  },
  {
   "cell_type": "markdown",
   "metadata": {},
   "source": [
    "当指定某个url,POMMA.py自动搜索该目录下所有的数据链接，合并后导出可供下载的目录文件。默认名为Catalog.txt,并保存到当前目录。"
   ]
  },
  {
   "cell_type": "markdown",
   "metadata": {},
   "source": [
    "### 2.1.3.操作实例：输出结果文件到指定目录.eg:/home/xxx"
   ]
  },
  {
   "cell_type": "code",
   "execution_count": 4,
   "metadata": {
    "collapsed": false
   },
   "outputs": [],
   "source": [
    "%run ../src/POAMA.py http://opendap.bom.gov.au:8080/thredds/catalog/poama/realtime/monthly/m24a/emn/catalog.html -o ."
   ]
  },
  {
   "cell_type": "markdown",
   "metadata": {},
   "source": [
    "## 2.2 断点续传"
   ]
  },
  {
   "cell_type": "markdown",
   "metadata": {},
   "source": [
    "### 2.2.1 示例："
   ]
  },
  {
   "cell_type": "code",
   "execution_count": null,
   "metadata": {
    "collapsed": true
   },
   "outputs": [],
   "source": [
    "%run ../src/POAMA.py -d ../tmp/catalog.txt"
   ]
  }
 ],
 "metadata": {
  "kernelspec": {
   "display_name": "Python 2",
   "language": "python",
   "name": "python2"
  },
  "language_info": {
   "codemirror_mode": {
    "name": "ipython",
    "version": 2
   },
   "file_extension": ".py",
   "mimetype": "text/x-python",
   "name": "python",
   "nbconvert_exporter": "python",
   "pygments_lexer": "ipython2",
   "version": "2.7.12"
  }
 },
 "nbformat": 4,
 "nbformat_minor": 0
}
