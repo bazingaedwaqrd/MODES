{
 "cells": [
  {
   "cell_type": "markdown",
   "metadata": {},
   "source": [
    "# 高温和暴雨日数预测统计"
   ]
  },
  {
   "cell_type": "markdown",
   "metadata": {},
   "source": [
    "## 1.算法说明"
   ]
  },
  {
   "cell_type": "markdown",
   "metadata": {},
   "source": []
  },
  {
   "cell_type": "markdown",
   "metadata": {},
   "source": [
    "## 2 使用说明"
   ]
  },
  {
   "cell_type": "markdown",
   "metadata": {},
   "source": [
    "### 2.1 显示帮助信息"
   ]
  },
  {
   "cell_type": "code",
   "execution_count": 7,
   "metadata": {
    "collapsed": false
   },
   "outputs": [
    {
     "name": "stdout",
     "output_type": "stream",
     "text": [
      "usage: extrem.py [-h] [-v] ini\n",
      "\n",
      "positional arguments:\n",
      "  ini            初始化配置文件\n",
      "\n",
      "optional arguments:\n",
      "  -h, --help     show this help message and exit\n",
      "  -v, --verbose  输出详细信息\n"
     ]
    }
   ],
   "source": [
    "%run ../src/extrem.py -h"
   ]
  },
  {
   "cell_type": "markdown",
   "metadata": {},
   "source": [
    "extrem.py用于处理高温日数的预测分析，并绘制相应的图形，输入是一个配置文件。"
   ]
  },
  {
   "cell_type": "markdown",
   "metadata": {},
   "source": [
    "### 2.2 配置文件"
   ]
  },
  {
   "cell_type": "markdown",
   "metadata": {
    "collapsed": false
   },
   "source": [
    "; 高温暴雨日数统计分析模块初始化配置文件\n",
    "\n",
    "[INFO]\n",
    "\n",
    "- Hindcast_Year_Start = 1981\n",
    "\n",
    "- ModelInitDate = 201605\n",
    "\n",
    "> ModelPredDate:要预报的年份,启始月\n",
    "\n",
    "- ModelPredDate = 201606\n",
    "\n",
    "> MonthCount:累计的月数\n",
    "\n",
    "- MonthCount = 3\n",
    "- ModelName = 欧洲中期预报中心ECMWF_SYSTEM4\n",
    "- ModelNameID = ECMWF_SYSTEM4\n",
    "\n",
    "> RegionID:区域名称及构建的值\n",
    "\n",
    "- RegionID = 全国_326站\n",
    "\n",
    "> RegionName:区域名称\n",
    "\n",
    "- RegionName = 全国326站\n",
    "- I_STA_TYPE = 182\n",
    "- DownScaleModelName = BP-CCA(东亚500hPa高度场)\n",
    "- DownScaleModelNameID = BP-CCA_H500_EA\n",
    "- ProgramName = downscale_BP-CCA4.PY\n",
    "\n",
    "> ObsType: 观测类型\n",
    "\n",
    "- ObsType = 高温大于35℃日数\n",
    "\n",
    "> LevFile:分级对应的观测文件\n",
    "\n",
    "- LevFile = maplev_GT35_anomaly.LEV\n",
    "- LevFileObs = maplev_GT35_Days.LEV\n",
    "- DataType = 2\n",
    "- ObsFileName = /Users/qiukaixiang/Downloads/P2705_GT35_Pred/P2705_GT35_Pred/OBS_DAT/DAYS_TMAX-GT35_1981_2015_6_3_182.txt\n",
    "- bShowNumber = 1\n",
    "- ModelPath = /Users/qiukaixiang/Downloads/P2705_GT35_Pred/P2705_GT35_Pred/ECMWF_SYSTEM4\n",
    "- ModelPatten = MODES_ECMWF_SYSTEM4\n",
    "\n",
    "> MODEL_BLZ: 模式信息\n",
    "\n",
    "- MODEL_BLZ = temp.npy\n",
    "- FIELD_NAME = slp\n",
    "\n",
    "----\n",
    "\n",
    "[bound]\n",
    "- LAT1=-10\n",
    "- LAT2=60\n",
    "- LON1=70\n",
    "- LON2=120\n",
    "\n",
    "----\n",
    "\n",
    "[File]\n",
    "- IniFileName = 201605.201606-201608.QG_326Z.DAYS-TMAX-GT35.ECMWF_SYSTEM4.BP-CCA_H500_EA.XML\n",
    "\n",
    "> result: 结果保存路径\n",
    "\n",
    "- result = ../tmp/out.txt\n",
    "- sky_region_config1 = ../tmp/sky_region_config.xml\n",
    "- images_save_path = ../tmp\n",
    "\n"
   ]
  },
  {
   "cell_type": "markdown",
   "metadata": {},
   "source": [
    "## 3. 绘图"
   ]
  },
  {
   "cell_type": "markdown",
   "metadata": {
    "collapsed": true
   },
   "source": [
    "![](../tmp/201605.201606-201608.QG_326Z.DAYS-TMAX-GT35.ECMWF_SYSTEM4.BP-CCA_H500_EA.MEAN.PNG)\n",
    "![](../tmp/201605.201606-201608.QG_326Z.DAYS-TMAX-GT35.ECMWF_SYSTEM4.BP-CCA_H500_EA.PRED.PNG)\n",
    "![](../tmp/201605.201606-201608.QG_326Z.DAYS-TMAX-GT35.ECMWF_SYSTEM4.BP-CCA_H500_EA.PRED_RESTORE.PNG)"
   ]
  }
 ],
 "metadata": {
  "kernelspec": {
   "display_name": "Python 2",
   "language": "python",
   "name": "python2"
  },
  "language_info": {
   "codemirror_mode": {
    "name": "ipython",
    "version": 2
   },
   "file_extension": ".py",
   "mimetype": "text/x-python",
   "name": "python",
   "nbconvert_exporter": "python",
   "pygments_lexer": "ipython2",
   "version": "2.7.12"
  }
 },
 "nbformat": 4,
 "nbformat_minor": 0
}
