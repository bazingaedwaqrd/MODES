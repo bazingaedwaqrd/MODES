{
 "cells": [
  {
   "cell_type": "markdown",
   "metadata": {},
   "source": [
    "# MODES HELP CONTENTS\n",
    "---\n",
    "## [1. ROC/BSS 模式检验](1_ROC%26BSS.ipynb)\n",
    "- ### [ 数据处理流程](1_ROC%26BSS.ipynb#1.数据处理流程)\n",
    "- ### [ 样本序列化](1_ROC%26BSS.ipynb#2.样本序列化)\n",
    "- ### [ 绘图](1_ROC%26BSS.ipynb#3.绘图)\n",
    "\n",
    "## [2.月尺度副高指数](2_wpshi.ipynb)\n",
    "- ### [ 指数定义](2_wpshi.ipynb#1.指数定义)\n",
    "- ### [ 指数计算](2_wpshi.ipynb#2.指数计算)\n",
    "- ### [ 绘图](2_wpshi.ipynb#3.绘图)\n",
    "\n",
    "## [3.降尺度分区预测](3_DownScale.ipynb)\n",
    "- ### [ 数据预处理](3_DownScale.ipynb#1.数据预处理)\n",
    "- ### [ 统计模型](2_wpshi.ipynb#2.统计模型)\n",
    "- ### [ 检验](2_wpshi.ipynb#3.检验)\n",
    "\n",
    "## [4.POAMA海汽耦合模式资料下载](4_poama.ipynb)\n",
    "- ### [ 数据介绍](4_poama.ipynb#1.数据介绍)\n",
    "- ### [ 下载分析](4_poama.ipynb#2.下载分析)\n",
    "\n",
    "## [5.暴雨和高温日数预测模型](5_ExWeather.ipynb)\n",
    "- ### [ 数据整理归档](5_ExWeather.ipynb#1.数据整理归档)\n",
    "- ### [ 数据处理分析](5_ExWeather.ipynb#2.数据处理分析)\n",
    "\n",
    "## [6.Bayers多模式预测模型](6_bayers.ipynb)\n",
    "- ### [ 多模式集合背景介绍](6_bayers.ipynb#1.多模式集合背景介绍)\n",
    "- ### [ 资料](6_bayers.ipynb#2.资料)\n",
    "- ### [ 方法](6_bayers.ipynb#3.方法)\n",
    "- ### [ 结果分析](6_bayers.ipynb#4.结果分析)\n",
    "- ### [ 参考文献](6_bayers.ipynb#5.参考文献)\n",
    "\n",
    "## [7.月季台风识别预测模块](7_typhoon.ipynb)\n",
    "- ### [ 台风资料](7_typhoon.ipynb#1.台风资料)\n",
    "- ### [ 资料处理分析](7_typhoon.ipynb#2.资料处理分析)\n"
   ]
  }
 ],
 "metadata": {
  "kernelspec": {
   "display_name": "Python 2",
   "language": "python",
   "name": "python2"
  },
  "language_info": {
   "codemirror_mode": {
    "name": "ipython",
    "version": 2
   },
   "file_extension": ".py",
   "mimetype": "text/x-python",
   "name": "python",
   "nbconvert_exporter": "python",
   "pygments_lexer": "ipython2",
   "version": "2.7.12"
  }
 },
 "nbformat": 4,
 "nbformat_minor": 0
}
