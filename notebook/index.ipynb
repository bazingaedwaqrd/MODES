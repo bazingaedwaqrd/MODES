{
 "cells": [
  {
   "cell_type": "markdown",
   "metadata": {},
   "source": [
    "# MODES HELP CONTENTS\n",
    "---\n",
    "## 1.ROC/BSS 模式检验\n",
    "## 2.副高指数预测\n",
    "## 3.降尺度预测\n",
    "## 4.POMMA海汽耦合模式资料下载\n",
    "## 5.暴雨和高温日数预测模型\n",
    "## 6.Bayers预测模型\n",
    "## 7.月季台风识别预测模块"
   ]
  }
 ],
 "metadata": {},
 "nbformat": 4,
 "nbformat_minor": 0
}